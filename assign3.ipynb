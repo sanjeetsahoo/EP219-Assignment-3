{
 "cells": [
  {
   "cell_type": "code",
   "execution_count": 23,
   "metadata": {},
   "outputs": [],
   "source": [
    "#importing necessary library files: numpy matplotlib pandas\n",
    "import numpy as np \n",
    "import matplotlib.mlab as mlab\n",
    "import matplotlib.pyplot as plt\n",
    "import pandas as pd\n"
   ]
  },
  {
   "cell_type": "code",
   "execution_count": 24,
   "metadata": {},
   "outputs": [],
   "source": [
    "# reading the csv files\n",
    "cr = pd.read_csv('crimerate.csv', skiprows =[30,38,39], usecols = [5]) \n",
    "un = pd.read_csv('unemploymentrate.csv',skiprows =[37], usecols = [4])\n",
    "\n",
    "un1 = un.to_records(index=False) #Converting Dataframe into NumPy array\n",
    "cr1 = cr.to_records(index=False) #Converting Dataframe into NumPy array"
   ]
  },
  {
   "cell_type": "code",
   "execution_count": 25,
   "metadata": {},
   "outputs": [
    {
     "name": "stdout",
     "output_type": "stream",
     "text": [
      "82658\n",
      "176387405\n",
      "13281.092010825014\n"
     ]
    }
   ],
   "source": [
    "#calculating the mean of crime rate\n",
    "sum2 = 0  # defining 0 initial sum\n",
    "i = 0   # defining 0 index\n",
    "for i in range(len(cr1)):   #running for loop to find the sum of all the state's crime rate\n",
    "    sum2= sum2 + cr1[i][0]  # taking crime rate column of cr1 and summing up\n",
    "    i = i+1     #increasing the index by 1 in each iteration\n",
    "mean_cr = sum2/len(cr1)  # mean = sum(all no)/ sample size\n",
    "print(mean_cr) #printing mean\n",
    "#finding variance of crime rate\n",
    "for i in range(len(cr1)):  #running for loop to find the variance of all the state's crime rate\n",
    "    var1= ((cr1[i][0] - mean_cr)**2)/(len(cr1)-1)  # the variance =( x - x_mean)/(sample size -1)\n",
    "    i = i+1  #increasing the index by 1 in each iteration\n",
    "print(var1)  # printing variance\n",
    "std1 = var1**0.5  # standard deviation = var^(1/2)\n",
    "print std1   # printing  std"
   ]
  },
  {
   "cell_type": "code",
   "execution_count": 26,
   "metadata": {},
   "outputs": [
    {
     "name": "stdout",
     "output_type": "stream",
     "text": [
      "4.541666666666668\n",
      "0.0019067460317460118\n",
      "0.04366630316097313\n"
     ]
    }
   ],
   "source": [
    "#calculating the mean of crime rate\n",
    "sum1 = 0    # defining 0 initial sum\n",
    "i = 0   # defining 0 index\n",
    "for i in range(len(un1)):  #running for loop to find the sum of all the state's crime rate\n",
    "    sum1= sum1 + un1[i][0]   # taking unemp rate column of cr1 and summing up\n",
    "    i = i+1   #increasing the index by 1 in each iteration\n",
    "mean = sum1/len(un1) # mean = sum(all no)/ sample size\n",
    "print(mean) #printing mean\n",
    "#finding variance of unemp rate\n",
    "for i in range(len(un1)):  #running for loop to find the variance of all the state's crime rate\n",
    "    var= ((un1[i][0] - mean)**2)/(len(un1)-1)  # the variance =( x - x_mean)/(sample size -1)\n",
    "    i = i+1   #increasing the index by 1 in each iteration\n",
    "print(var)  # printing variance\n",
    "std = var**0.5 # standard deviation = var^(1/2)\n",
    "print std # printing  std"
   ]
  },
  {
   "cell_type": "code",
   "execution_count": 27,
   "metadata": {},
   "outputs": [
    {
     "name": "stdout",
     "output_type": "stream",
     "text": [
      "[ 3.5  3.9  4.   4.4  1.2  3.1  9.   0.6  3.3 10.2  6.6  2.2  1.4 10.6\n",
      "  3.   1.5  3.4  4.   1.5  5.6  3.8  5.8  2.5  8.9  3.8  2.7 10.   6.1\n",
      "  5.8  3.6 12.   3.4  2.7  0.3  4.3  4.8]\n",
      "[1.06774e+05 2.53400e+03 1.02250e+05 1.64163e+05 5.50290e+04 2.69200e+03\n",
      " 1.47122e+05 8.85270e+04 1.33860e+04 2.45010e+04 4.07100e+04 1.48402e+05\n",
      " 2.60097e+05 2.64418e+05 2.61714e+05 3.17000e+03 3.36600e+03 2.42500e+03\n",
      " 1.37600e+03 8.14600e+04 4.00070e+04 1.80398e+05 8.09000e+02 1.79896e+05\n",
      " 1.08991e+05 3.93300e+03 2.82171e+05 1.08670e+04 1.76569e+05 8.02000e+02\n",
      " 2.99600e+03 2.44000e+02 2.71000e+02 2.09519e+05 3.60000e+01 4.08600e+03]\n"
     ]
    }
   ],
   "source": [
    "ls = np.zeros((len(un1)),order='C')  # creating one array of same length as un1\n",
    "ls.tolist()    # converting ls to list\n",
    "for i in range(len(un1)):  #taking the valies of un1 to the list ls\n",
    "    ls[i]= un1[i][0]  #the (i,0) th data is needed\n",
    "    i = i +1  #increasing the index by 1 in each iteration\n",
    "print ls  # printing ls\n",
    "\n",
    "cr2 = np.zeros((len(cr1)),order='C')  # creating one array of same length as cr1\n",
    "cr2.tolist()    # converting cr2 to list\n",
    "for i in range(len(un1)):  #taking the valies of cr1 to the list cr2\n",
    "    cr2[i]= cr1[i][0]    #the (i,0) th data is needed\n",
    "    i = i +1    #increasing the index by 1 in each iteration\n",
    "print cr2    # printing cr2"
   ]
  },
  {
   "cell_type": "code",
   "execution_count": 29,
   "metadata": {
    "scrolled": true
   },
   "outputs": [
    {
     "name": "stdout",
     "output_type": "stream",
     "text": [
      "-579.9361904761874\n"
     ]
    }
   ],
   "source": [
    "#the correlation relation\n",
    "i = 0 #setting index value 0\n",
    "\n",
    "for i in range(len(un1)): #initiating for loop\n",
    "    cor= ((un1[i][0] - mean))*((cr1[i][0] - mean_cr))/(len(cr1)-1) # correlation formula is written\n",
    "    i = i+1  #increasing the index by 1 in each iteration\n",
    "print(cor) #printing correlation \n"
   ]
  },
  {
   "cell_type": "code",
   "execution_count": 30,
   "metadata": {},
   "outputs": [
    {
     "name": "stdout",
     "output_type": "stream",
     "text": [
      "1.0000000003644574\n"
     ]
    }
   ],
   "source": [
    "i = 0  #setting index value 0\n",
    "den = abs(cor)/(std*std1)  # correlation density formula^2\n",
    "density = den**0.5 # correlation density formula\n",
    "print(density)  #printing density"
   ]
  },
  {
   "cell_type": "code",
   "execution_count": 31,
   "metadata": {},
   "outputs": [
    {
     "data": {
      "image/png": "[encoded data removed]",
      "text/plain": [
       "<Figure size 432x288 with 1 Axes>"
      ]
     },
     "metadata": {},
     "output_type": "display_data"
    }
   ],
   "source": [
    "\n",
    "plt.hist(ls,histtype='step', label=\"unemployment rate\") #plotting 1d histogram for unemployment rate\n",
    "\n",
    "plt.ylabel(\"No of states \") #giving y label\n",
    "plt.xlabel('Unemployment rate') # giving x label\n",
    "Mean= mean  #taking the mean valuer calculated \n",
    "standad_dev = std #taking the std valuer calculated \n",
    "plt.axvline(Mean, label=\"Mean\", lw=1, ls='dashed') # the mean will be shown by a dashed vertical line \n",
    "plt.axhline(standad_dev, label=\"Standard deviation\", lw=1) # the std will be shown by a  horizontal line \n",
    "plt.title('Histogram of unemployment rate ') # writing the title of plot\n",
    "plt.legend() #showing legend\n",
    "plt.show() #show the plot"
   ]
  },
  {
   "cell_type": "code",
   "execution_count": 34,
   "metadata": {},
   "outputs": [
    {
     "data": {
      "image/png": "[encoded data removed]",
      "text/plain": [
       "<Figure size 432x288 with 1 Axes>"
      ]
     },
     "metadata": {},
     "output_type": "display_data"
    }
   ],
   "source": [
    "plt.hist(cr2, histtype='step', label=\"Crime rate\")  #plotting 1d histogram forcrime rate\n",
    "plt.ylabel(\"Number of states\")#giving y label\n",
    "plt.xlabel('Crime rate')#giving x label\n",
    "Mean1= mean_cr #taking the mean valuer calculated \n",
    "standard_dev = std1 #taking the std valuer calculated \n",
    "plt.axvline(Mean1, label=\"Mean\", lw=1, ls='dashed') # the mean will be shown by a dashed vertical line \n",
    "plt.axvline(standard_dev, label=\"Standard deviation\", lw=1)# the std will be shown by a  vertical line\n",
    "plt.title(r'Histogram for Crime rate')#showing title\n",
    "plt.legend()#showing legend\n",
    "plt.show()#show the plot"
   ]
  },
  {
   "cell_type": "code",
   "execution_count": 22,
   "metadata": {},
   "outputs": [
    {
     "data": {
      "image/png": "[encoded data removed]",
      "text/plain": [
       "<Figure size 432x288 with 1 Axes>"
      ]
     },
     "metadata": {},
     "output_type": "display_data"
    }
   ],
   "source": [
    "data1 = pd.read_csv('crimerate.csv', skiprows =[30,38,39], usecols = [5]) # taking the data by pandas\n",
    "data2 = pd.read_csv('unemploymentrate.csv',skiprows =[37], usecols = [4])  # taking the data by pandas\n",
    "\n",
    "plt.scatter(data1, data2)  #scatter plot\n",
    "plt.xlabel('unemployment rate') # giving x label\n",
    "plt.ylabel('Crime rate') # giving y label\n",
    "plt.show() #show the plot"
   ]
  },
  {
   "cell_type": "code",
   "execution_count": 36,
   "metadata": {},
   "outputs": [],
   "source": [
    "ls1 = np.asarray(ls) #converting list to numpy array\n",
    "\n",
    "cr3 = np.asarray(cr2) #converting list to numpy array"
   ]
  },
  {
   "cell_type": "code",
   "execution_count": 41,
   "metadata": {},
   "outputs": [
    {
     "data": {
      "image/png": "[encoded data removed]",
      "text/plain": [
       "<Figure size 432x288 with 2 Axes>"
      ]
     },
     "metadata": {},
     "output_type": "display_data"
    }
   ],
   "source": [
    "\n",
    "plt.hist2d(cr3,  ls1)  #plotting 2d histogram for unemployment rate and Crime rate\n",
    "plt.colorbar() # showing colorbar\n",
    "plt.title(r'2D Histogram for unemployment and Crime rate')#showing title\n",
    "plt.xlabel('unemployment rate') # giving x label\n",
    "plt.ylabel('Crime rate')# giving y label\n",
    "\n",
    "plt.show() #show the plot\n"
   ]
  },
  {
   "cell_type": "code",
   "execution_count": null,
   "metadata": {},
   "outputs": [],
   "source": []
  },
  {
   "cell_type": "code",
   "execution_count": null,
   "metadata": {},
   "outputs": [],
   "source": []
  },
  {
   "cell_type": "code",
   "execution_count": null,
   "metadata": {},
   "outputs": [],
   "source": []
  }
 ],
 "metadata": {
  "kernelspec": {
   "display_name": "Python 3",
   "language": "python",
   "name": "python3"
  },
  "language_info": {
   "codemirror_mode": {
    "name": "ipython",
    "version": 3
   },
   "file_extension": ".py",
   "mimetype": "text/x-python",
   "name": "python",
   "nbconvert_exporter": "python",
   "pygments_lexer": "ipython3",
   "version": "3.6.5"
  }
 },
 "nbformat": 4,
 "nbformat_minor": 2
}
